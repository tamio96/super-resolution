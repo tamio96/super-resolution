{
 "cells": [
  {
   "cell_type": "markdown",
   "metadata": {},
   "source": [
    "# EDSR"
   ]
  },
  {
   "cell_type": "code",
   "execution_count": 1,
   "metadata": {},
   "outputs": [],
   "source": [
    "import os\n",
    "import matplotlib.pyplot as plt\n",
    "\n",
    "from data import DIV2K\n",
    "from model.rcan import rcan\n",
    "from train import RcanTrainer\n",
    "\n",
    "%matplotlib inline"
   ]
  },
  {
   "cell_type": "code",
   "execution_count": 2,
   "metadata": {},
   "outputs": [],
   "source": [
    "# Number of residual group\n",
    "num_res_groups = 10\n",
    "num_res_blocks = 20\n",
    "reduction = 16\n",
    "# Super-resolution factor\n",
    "scale = 2\n",
    "\n",
    "# Downgrade operator\n",
    "downgrade = 'bicubic'"
   ]
  },
  {
   "cell_type": "code",
   "execution_count": 3,
   "metadata": {},
   "outputs": [],
   "source": [
    "# Location of model weights (needed for demo)\n",
    "weights_dir = f'weights/rcan-{num_res_groups}-x{scale}'\n",
    "weights_file = os.path.join(weights_dir, 'weights.h5')\n",
    "\n",
    "os.makedirs(weights_dir, exist_ok=True)"
   ]
  },
  {
   "cell_type": "markdown",
   "metadata": {},
   "source": [
    "## Datasets\n",
    "\n",
    "You don't need to download the DIV2K dataset as the required parts are automatically downloaded by the `DIV2K` class. By default, DIV2K images are stored in folder `.div2k` in the project's root directory."
   ]
  },
  {
   "cell_type": "code",
   "execution_count": 4,
   "metadata": {},
   "outputs": [],
   "source": [
    "div2k_train = DIV2K(scale=scale, subset='train', downgrade=downgrade)\n",
    "div2k_valid = DIV2K(scale=scale, subset='valid', downgrade=downgrade)"
   ]
  },
  {
   "cell_type": "code",
   "execution_count": 5,
   "metadata": {},
   "outputs": [],
   "source": [
    "train_ds = div2k_train.dataset(batch_size=8, random_transform=True)\n",
    "valid_ds = div2k_valid.dataset(batch_size=1, random_transform=False, repeat_count=1)"
   ]
  },
  {
   "cell_type": "markdown",
   "metadata": {},
   "source": [
    "## Training\n",
    "\n",
    "### Pre-trained models\n",
    "\n",
    "If you want to skip training and directly run the demo below, download [weights-edsr-16-x4.tar.gz](https://martin-krasser.de/sisr/weights-edsr-16-x4.tar.gz) and extract the archive in the project's root directory. This will create a `weights/edsr-16-x4` directory containing the weights of the pre-trained model."
   ]
  },
  {
   "cell_type": "code",
   "execution_count": 6,
   "metadata": {},
   "outputs": [],
   "source": [
    "trainer = RcanTrainer(model=rcan(scale=scale, num_res_groups=num_res_groups, num_res_blocks=num_res_blocks, reduction=reduction),\n",
    "                      checkpoint_dir=f'.ckpt/rcan-{num_res_groups}-x{scale}')"
   ]
  },
  {
   "cell_type": "code",
   "execution_count": null,
   "metadata": {
    "scrolled": true
   },
   "outputs": [
    {
     "name": "stdout",
     "output_type": "stream",
     "text": [
      "100/300000: loss = 60.038, PSNR = 19.191755 (91.64s)\n",
      "200/300000: loss = 20.544, PSNR = 22.447956 (73.58s)\n",
      "300/300000: loss = 15.383, PSNR = 24.013599 (71.89s)\n",
      "400/300000: loss = 12.067, PSNR = 26.232159 (72.09s)\n",
      "500/300000: loss = 10.324, PSNR = 24.266876 (72.30s)\n",
      "600/300000: loss = 9.807, PSNR = 27.037313 (72.48s)\n",
      "700/300000: loss = 8.649, PSNR = 27.878475 (72.23s)\n",
      "800/300000: loss = 7.916, PSNR = 29.124737 (72.40s)\n",
      "900/300000: loss = 7.503, PSNR = 28.659077 (72.89s)\n",
      "1000/300000: loss = 6.926, PSNR = 29.769510 (71.73s)\n",
      "1100/300000: loss = 6.604, PSNR = 30.689838 (72.24s)\n",
      "1200/300000: loss = 6.490, PSNR = 31.058743 (73.29s)\n",
      "1300/300000: loss = 6.198, PSNR = 31.230560 (71.86s)\n",
      "1400/300000: loss = 5.994, PSNR = 31.641571 (72.06s)\n",
      "1500/300000: loss = 5.706, PSNR = 31.197399 (72.16s)\n",
      "1600/300000: loss = 5.766, PSNR = 31.374786 (72.54s)\n",
      "1700/300000: loss = 5.833, PSNR = 31.794195 (72.39s)\n",
      "1800/300000: loss = 5.521, PSNR = 31.596537 (70.99s)\n",
      "1900/300000: loss = 5.483, PSNR = 31.516510 (72.61s)\n",
      "2000/300000: loss = 5.313, PSNR = 31.815044 (72.92s)\n",
      "2100/300000: loss = 5.396, PSNR = 31.559315 (71.64s)\n",
      "2200/300000: loss = 5.526, PSNR = 31.280514 (73.13s)\n",
      "2300/300000: loss = 5.106, PSNR = 31.700962 (72.64s)\n",
      "2400/300000: loss = 5.105, PSNR = 31.925049 (72.71s)\n",
      "2500/300000: loss = 4.923, PSNR = 32.625084 (72.33s)\n",
      "2600/300000: loss = 4.879, PSNR = 32.589699 (72.55s)\n",
      "2700/300000: loss = 4.877, PSNR = 32.274647 (73.62s)\n",
      "2800/300000: loss = 5.173, PSNR = 32.842579 (71.77s)\n",
      "2900/300000: loss = 4.917, PSNR = 32.896080 (72.85s)\n",
      "3000/300000: loss = 4.763, PSNR = 33.154938 (71.59s)\n",
      "3100/300000: loss = 4.624, PSNR = 33.022224 (60.30s)\n",
      "3200/300000: loss = 4.544, PSNR = 33.207386 (17.73s)\n",
      "3300/300000: loss = 4.461, PSNR = 32.300949 (17.37s)\n",
      "3400/300000: loss = 4.729, PSNR = 32.864235 (14.80s)\n",
      "3500/300000: loss = 4.500, PSNR = 33.331623 (16.09s)\n",
      "3600/300000: loss = 4.452, PSNR = 33.150490 (33.13s)\n",
      "3700/300000: loss = 4.892, PSNR = 33.077187 (15.12s)\n",
      "3800/300000: loss = 4.744, PSNR = 33.351093 (14.34s)\n",
      "3900/300000: loss = 4.571, PSNR = 33.190697 (16.23s)\n",
      "4000/300000: loss = 4.367, PSNR = 33.228333 (32.52s)\n",
      "4100/300000: loss = 4.517, PSNR = 33.351509 (13.86s)\n",
      "4200/300000: loss = 4.518, PSNR = 33.168266 (14.10s)\n",
      "4300/300000: loss = 4.457, PSNR = 33.309330 (63.09s)\n",
      "4400/300000: loss = 4.606, PSNR = 33.303986 (14.36s)\n",
      "4500/300000: loss = 4.604, PSNR = 33.534519 (16.67s)\n",
      "4600/300000: loss = 4.517, PSNR = 33.052742 (14.72s)\n",
      "4700/300000: loss = 4.481, PSNR = 33.503544 (14.71s)\n",
      "4800/300000: loss = 4.567, PSNR = 33.517803 (15.11s)\n",
      "4900/300000: loss = 4.631, PSNR = 33.561096 (14.72s)\n",
      "5000/300000: loss = 4.412, PSNR = 33.631367 (13.90s)\n",
      "5100/300000: loss = 4.401, PSNR = 33.613598 (13.36s)\n",
      "5200/300000: loss = 4.585, PSNR = 33.359871 (13.75s)\n",
      "5300/300000: loss = 4.704, PSNR = 33.571201 (13.83s)\n",
      "5400/300000: loss = 4.737, PSNR = 33.079445 (13.88s)\n",
      "5500/300000: loss = 4.384, PSNR = 33.678688 (13.98s)\n",
      "5600/300000: loss = 4.265, PSNR = 33.646645 (13.54s)\n",
      "5700/300000: loss = 4.240, PSNR = 33.306713 (13.79s)\n",
      "5800/300000: loss = 4.340, PSNR = 33.687859 (13.80s)\n",
      "5900/300000: loss = 4.098, PSNR = 33.805199 (13.28s)\n",
      "6000/300000: loss = 4.144, PSNR = 33.715038 (13.26s)\n",
      "6100/300000: loss = 4.247, PSNR = 33.806896 (13.73s)\n",
      "6200/300000: loss = 4.377, PSNR = 33.805363 (13.51s)\n",
      "6300/300000: loss = 4.479, PSNR = 33.508629 (14.32s)\n",
      "6400/300000: loss = 4.643, PSNR = 33.812969 (14.20s)\n",
      "6500/300000: loss = 4.449, PSNR = 33.820465 (13.03s)\n",
      "6600/300000: loss = 4.049, PSNR = 33.855663 (13.74s)\n",
      "6700/300000: loss = 4.290, PSNR = 33.945004 (14.34s)\n",
      "6800/300000: loss = 4.653, PSNR = 33.810299 (15.42s)\n",
      "6900/300000: loss = 4.392, PSNR = 33.944710 (15.08s)\n",
      "7000/300000: loss = 4.321, PSNR = 33.988655 (14.14s)\n",
      "7100/300000: loss = 4.242, PSNR = 33.894600 (13.60s)\n",
      "7200/300000: loss = 4.117, PSNR = 33.967842 (14.06s)\n",
      "7300/300000: loss = 4.170, PSNR = 33.972557 (14.00s)\n",
      "7400/300000: loss = 4.302, PSNR = 34.011971 (13.87s)\n",
      "7500/300000: loss = 4.212, PSNR = 33.934959 (13.95s)\n",
      "7600/300000: loss = 4.224, PSNR = 33.843925 (14.07s)\n",
      "7700/300000: loss = 4.308, PSNR = 33.792194 (13.97s)\n",
      "7800/300000: loss = 4.168, PSNR = 33.930721 (14.05s)\n",
      "7900/300000: loss = 4.128, PSNR = 34.128937 (14.14s)\n",
      "8000/300000: loss = 4.134, PSNR = 34.143230 (13.70s)\n",
      "8100/300000: loss = 4.103, PSNR = 34.113564 (13.70s)\n",
      "8200/300000: loss = 4.259, PSNR = 33.879551 (14.28s)\n",
      "8300/300000: loss = 4.348, PSNR = 34.089832 (14.26s)\n",
      "8400/300000: loss = 4.148, PSNR = 34.198372 (14.40s)\n",
      "8500/300000: loss = 3.983, PSNR = 34.197178 (13.97s)\n",
      "8600/300000: loss = 4.166, PSNR = 34.140514 (14.33s)\n",
      "8700/300000: loss = 4.263, PSNR = 34.012157 (15.22s)\n",
      "8800/300000: loss = 4.080, PSNR = 33.995472 (14.12s)\n",
      "8900/300000: loss = 4.057, PSNR = 34.181583 (13.85s)\n",
      "9000/300000: loss = 4.046, PSNR = 34.134941 (14.42s)\n",
      "9100/300000: loss = 4.150, PSNR = 34.297779 (15.08s)\n",
      "9200/300000: loss = 4.045, PSNR = 34.315525 (14.55s)\n",
      "9300/300000: loss = 3.937, PSNR = 34.292889 (14.06s)\n",
      "9400/300000: loss = 4.067, PSNR = 34.200005 (14.41s)\n",
      "9500/300000: loss = 4.086, PSNR = 34.251976 (14.27s)\n",
      "9600/300000: loss = 4.013, PSNR = 34.324333 (14.95s)\n",
      "9700/300000: loss = 3.948, PSNR = 34.348053 (14.45s)\n",
      "9800/300000: loss = 3.916, PSNR = 34.204540 (14.47s)\n",
      "9900/300000: loss = 4.082, PSNR = 34.092445 (15.41s)\n",
      "10000/300000: loss = 4.159, PSNR = 33.647606 (15.02s)\n",
      "10100/300000: loss = 3.927, PSNR = 34.151443 (14.53s)\n",
      "10200/300000: loss = 4.010, PSNR = 34.351692 (14.95s)\n",
      "10300/300000: loss = 4.231, PSNR = 34.101227 (14.55s)\n",
      "10400/300000: loss = 3.975, PSNR = 34.073311 (15.07s)\n",
      "10500/300000: loss = 4.083, PSNR = 33.157463 (15.79s)\n",
      "10600/300000: loss = 4.132, PSNR = 34.234314 (14.93s)\n",
      "10700/300000: loss = 4.030, PSNR = 34.329292 (14.67s)\n",
      "10800/300000: loss = 4.086, PSNR = 34.385986 (14.40s)\n",
      "10900/300000: loss = 4.084, PSNR = 34.390354 (14.27s)\n",
      "11000/300000: loss = 4.085, PSNR = 34.326488 (13.37s)\n",
      "11100/300000: loss = 4.049, PSNR = 34.340240 (14.48s)\n",
      "11200/300000: loss = 4.002, PSNR = 34.358402 (14.36s)\n",
      "11300/300000: loss = 3.967, PSNR = 34.349792 (18.95s)\n",
      "11400/300000: loss = 3.948, PSNR = 34.348717 (18.50s)\n",
      "11500/300000: loss = 4.035, PSNR = 34.198559 (16.41s)\n",
      "11600/300000: loss = 4.102, PSNR = 34.355347 (14.12s)\n",
      "11700/300000: loss = 4.021, PSNR = 34.479675 (14.30s)\n",
      "11800/300000: loss = 3.959, PSNR = 34.415718 (13.38s)\n",
      "11900/300000: loss = 4.098, PSNR = 34.476768 (14.23s)\n",
      "12000/300000: loss = 4.087, PSNR = 34.216309 (14.41s)\n",
      "12100/300000: loss = 3.954, PSNR = 34.403534 (13.81s)\n",
      "12200/300000: loss = 4.104, PSNR = 34.372936 (13.92s)\n",
      "12300/300000: loss = 3.918, PSNR = 34.333733 (13.91s)\n",
      "12400/300000: loss = 3.913, PSNR = 34.496685 (14.29s)\n",
      "12500/300000: loss = 4.081, PSNR = 34.411892 (13.03s)\n",
      "12600/300000: loss = 3.822, PSNR = 33.914574 (13.90s)\n",
      "12700/300000: loss = 4.047, PSNR = 33.701954 (13.69s)\n",
      "12800/300000: loss = 4.053, PSNR = 34.458294 (14.09s)\n",
      "12900/300000: loss = 3.819, PSNR = 34.456841 (13.51s)\n",
      "13000/300000: loss = 3.928, PSNR = 34.443817 (13.91s)\n",
      "13100/300000: loss = 4.172, PSNR = 34.437218 (14.41s)\n",
      "13200/300000: loss = 4.071, PSNR = 34.439663 (13.88s)\n",
      "13300/300000: loss = 3.986, PSNR = 34.380798 (13.86s)\n",
      "13400/300000: loss = 3.944, PSNR = 34.403618 (13.74s)\n",
      "13500/300000: loss = 3.808, PSNR = 34.491356 (13.82s)\n",
      "13600/300000: loss = 4.016, PSNR = 34.470402 (14.32s)\n",
      "13700/300000: loss = 4.109, PSNR = 34.527199 (14.31s)\n",
      "13800/300000: loss = 3.809, PSNR = 34.260151 (14.21s)\n",
      "13900/300000: loss = 3.746, PSNR = 34.462391 (14.54s)\n",
      "14000/300000: loss = 3.794, PSNR = 34.545593 (14.57s)\n",
      "14100/300000: loss = 3.793, PSNR = 34.427086 (13.03s)\n",
      "14200/300000: loss = 3.926, PSNR = 34.598804 (13.93s)\n",
      "14300/300000: loss = 3.841, PSNR = 34.447994 (13.11s)\n",
      "14400/300000: loss = 3.854, PSNR = 34.474804 (13.39s)\n",
      "14500/300000: loss = 3.878, PSNR = 34.362434 (13.47s)\n",
      "14600/300000: loss = 3.850, PSNR = 34.648903 (13.51s)\n",
      "14700/300000: loss = 3.878, PSNR = 34.541363 (14.33s)\n",
      "14800/300000: loss = 3.868, PSNR = 34.588615 (14.10s)\n",
      "14900/300000: loss = 4.015, PSNR = 34.488934 (14.81s)\n",
      "15000/300000: loss = 3.879, PSNR = 34.678730 (14.41s)\n",
      "15100/300000: loss = 3.824, PSNR = 34.387741 (13.24s)\n",
      "15200/300000: loss = 3.944, PSNR = 34.662403 (13.83s)\n",
      "15300/300000: loss = 3.921, PSNR = 34.499603 (13.75s)\n",
      "15400/300000: loss = 3.895, PSNR = 34.550671 (14.16s)\n"
     ]
    },
    {
     "name": "stdout",
     "output_type": "stream",
     "text": [
      "15500/300000: loss = 4.027, PSNR = 34.399986 (13.75s)\n",
      "15600/300000: loss = 3.799, PSNR = 34.543385 (13.64s)\n",
      "15700/300000: loss = 3.920, PSNR = 33.619179 (14.04s)\n",
      "15800/300000: loss = 4.005, PSNR = 34.299309 (13.99s)\n",
      "15900/300000: loss = 4.250, PSNR = 34.493389 (13.66s)\n",
      "16000/300000: loss = 4.152, PSNR = 34.472939 (14.15s)\n",
      "16100/300000: loss = 4.023, PSNR = 34.592316 (13.66s)\n",
      "16200/300000: loss = 3.778, PSNR = 34.242882 (13.97s)\n",
      "16300/300000: loss = 3.788, PSNR = 34.567432 (15.79s)\n",
      "16400/300000: loss = 3.895, PSNR = 34.513355 (15.80s)\n",
      "16500/300000: loss = 3.809, PSNR = 34.526775 (14.45s)\n",
      "16600/300000: loss = 3.733, PSNR = 34.662342 (15.79s)\n",
      "16700/300000: loss = 3.650, PSNR = 34.487518 (16.00s)\n",
      "16800/300000: loss = 3.896, PSNR = 34.666599 (13.50s)\n",
      "16900/300000: loss = 3.760, PSNR = 34.688522 (13.63s)\n"
     ]
    }
   ],
   "source": [
    "# Train EDSR model for 300,000 steps and evaluate model\n",
    "# every 1000 steps on the first 10 images of the DIV2K\n",
    "# validation set. Save a checkpoint only if evaluation\n",
    "# PSNR has improved.\n",
    "trainer.train(train_ds,\n",
    "              valid_ds.take(10),\n",
    "              steps=300000, \n",
    "              evaluate_every=100, \n",
    "              save_best_only=True)"
   ]
  },
  {
   "cell_type": "code",
   "execution_count": null,
   "metadata": {},
   "outputs": [],
   "source": [
    "# Restore from checkpoint with highest PSNR\n",
    "trainer.restore()"
   ]
  },
  {
   "cell_type": "code",
   "execution_count": null,
   "metadata": {},
   "outputs": [],
   "source": [
    "# Evaluate model on full validation set\n",
    "psnrv = trainer.evaluate(valid_ds)\n",
    "print(f'PSNR = {psnrv.numpy():3f}')"
   ]
  },
  {
   "cell_type": "code",
   "execution_count": null,
   "metadata": {},
   "outputs": [],
   "source": [
    "# Save weights to separate location (needed for demo)\n",
    "trainer.model.save_weights(weights_file)"
   ]
  },
  {
   "cell_type": "markdown",
   "metadata": {},
   "source": [
    "## Demo"
   ]
  },
  {
   "cell_type": "code",
   "execution_count": null,
   "metadata": {},
   "outputs": [],
   "source": [
    "model = edsr(scale=scale, num_res_blocks=depth)\n",
    "model.load_weights(weights_file)"
   ]
  },
  {
   "cell_type": "code",
   "execution_count": null,
   "metadata": {},
   "outputs": [],
   "source": [
    "from model import resolve_single\n",
    "from utils import load_image, plot_sample\n",
    "import tensorflow as tf\n",
    "\n",
    "def resolve_and_plot(lr_image_path):\n",
    "    lr = load_image(lr_image_path)\n",
    "    sr = resolve_single(model, lr)\n",
    "    plot_sample(lr, sr)\n",
    "    \n",
    "def save_output(lr_image_path):\n",
    "    filename = lr_image_path.split(\"/\")[-1].split(\".\")[:-1][0]\n",
    "    lr = load_image(lr_image_path)\n",
    "    sr = resolve_single(model, lr)\n",
    "    tf.keras.preprocessing.image.save_img(\"output/\"+filename+'_edsr.png',sr)"
   ]
  },
  {
   "cell_type": "code",
   "execution_count": null,
   "metadata": {},
   "outputs": [],
   "source": [
    "save_output('demo/raw.jpg')"
   ]
  },
  {
   "cell_type": "code",
   "execution_count": null,
   "metadata": {},
   "outputs": [],
   "source": [
    "resolve_and_plot('demo/raw.jpg')"
   ]
  },
  {
   "cell_type": "code",
   "execution_count": null,
   "metadata": {},
   "outputs": [],
   "source": [
    "resolve_and_plot('demo/raw2.jpg')"
   ]
  },
  {
   "cell_type": "code",
   "execution_count": null,
   "metadata": {},
   "outputs": [],
   "source": [
    "resolve_and_plot('demo/0851x4-crop.png')"
   ]
  },
  {
   "cell_type": "code",
   "execution_count": null,
   "metadata": {},
   "outputs": [],
   "source": []
  }
 ],
 "metadata": {
  "kernelspec": {
   "display_name": "Python 3",
   "language": "python",
   "name": "python3"
  },
  "language_info": {
   "codemirror_mode": {
    "name": "ipython",
    "version": 3
   },
   "file_extension": ".py",
   "mimetype": "text/x-python",
   "name": "python",
   "nbconvert_exporter": "python",
   "pygments_lexer": "ipython3",
   "version": "3.6.13"
  }
 },
 "nbformat": 4,
 "nbformat_minor": 2
}
